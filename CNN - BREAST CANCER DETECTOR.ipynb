{
 "cells": [
  {
   "cell_type": "markdown",
   "metadata": {},
   "source": [
    "# 1. IMPORT LIBRARIES"
   ]
  },
  {
   "cell_type": "code",
   "execution_count": 1,
   "metadata": {},
   "outputs": [],
   "source": [
    "from tensorflow.keras.models import Sequential\n",
    "from tensorflow.keras.layers import Dense, Convolution2D, MaxPooling2D, Flatten\n",
    "from tensorflow.keras.preprocessing.image import ImageDataGenerator"
   ]
  },
  {
   "cell_type": "markdown",
   "metadata": {},
   "source": [
    "# 2. IMAGE PREPROCESSING"
   ]
  },
  {
   "cell_type": "code",
   "execution_count": 2,
   "metadata": {},
   "outputs": [],
   "source": [
    "train_data = ImageDataGenerator(rescale = 1./224, shear_range = 0.2, zoom_range = 0.2, horizontal_flip = True)\n",
    "test_data = ImageDataGenerator(rescale = 1./224)"
   ]
  },
  {
   "cell_type": "code",
   "execution_count": 3,
   "metadata": {},
   "outputs": [
    {
     "name": "stdout",
     "output_type": "stream",
     "text": [
      "Found 102394 images belonging to 2 classes.\n",
      "Found 44087 images belonging to 2 classes.\n"
     ]
    }
   ],
   "source": [
    "x_train = train_data.flow_from_directory(r'DATASET\\TRAIN', target_size = (32,32), batch_size = 32, class_mode = \"binary\")\n",
    "x_test = test_data.flow_from_directory(r'DATASET\\TEST', target_size = (32,32), batch_size = 32, class_mode = \"binary\")"
   ]
  },
  {
   "cell_type": "raw",
   "metadata": {},
   "source": [
    "HERE THE TWO CLASSES ARE BENIGN AND MALIGNANT\n",
    "BENIGN - CLASS 0\n",
    "MALIGNANT - CLASS 1"
   ]
  },
  {
   "cell_type": "markdown",
   "metadata": {},
   "source": [
    "# 3. INITIALIZING THE MODEL"
   ]
  },
  {
   "cell_type": "code",
   "execution_count": 4,
   "metadata": {},
   "outputs": [],
   "source": [
    "detector = Sequential()"
   ]
  },
  {
   "cell_type": "markdown",
   "metadata": {},
   "source": [
    "# 4. ADDING CONVOLUTION LAYER"
   ]
  },
  {
   "cell_type": "code",
   "execution_count": 5,
   "metadata": {},
   "outputs": [],
   "source": [
    "detector.add(Convolution2D(32,(3,3), input_shape = (32,32,3)))\n",
    "# the 3 in input shape indicates it is coloured image(RGB)\n",
    "# (3,3) indicates feature detector matrix size\n",
    "# 32 in no of feature detectors"
   ]
  },
  {
   "cell_type": "markdown",
   "metadata": {},
   "source": [
    "# 5. ADDING POOLING LAYER"
   ]
  },
  {
   "cell_type": "code",
   "execution_count": 6,
   "metadata": {},
   "outputs": [],
   "source": [
    "detector.add(MaxPooling2D((2,2)))\n",
    "# (2,2) is pooling matrix size"
   ]
  },
  {
   "cell_type": "code",
   "execution_count": 7,
   "metadata": {},
   "outputs": [],
   "source": [
    "detector.add(Convolution2D(64,(3,3), input_shape = (32,32,3)))\n",
    "detector.add(MaxPooling2D((2,2)))"
   ]
  },
  {
   "cell_type": "code",
   "execution_count": 8,
   "metadata": {},
   "outputs": [],
   "source": [
    "detector.add(Convolution2D(128,(3,3), input_shape = (32,32,3)))\n",
    "detector.add(MaxPooling2D((2,2)))"
   ]
  },
  {
   "cell_type": "markdown",
   "metadata": {},
   "source": [
    "# 6. ADDING FLATTEN LAYER"
   ]
  },
  {
   "cell_type": "code",
   "execution_count": 9,
   "metadata": {},
   "outputs": [],
   "source": [
    "detector.add(Flatten())  #gives input layer"
   ]
  },
  {
   "cell_type": "markdown",
   "metadata": {},
   "source": [
    "# 7. ADDING HIDDEN LAYER"
   ]
  },
  {
   "cell_type": "code",
   "execution_count": 10,
   "metadata": {},
   "outputs": [],
   "source": [
    "detector.add(Dense(units = 512, kernel_initializer = \"random_uniform\", activation = \"relu\"))"
   ]
  },
  {
   "cell_type": "markdown",
   "metadata": {},
   "source": [
    "# 8. ADDING OUTPUT LAYER"
   ]
  },
  {
   "cell_type": "code",
   "execution_count": 11,
   "metadata": {},
   "outputs": [],
   "source": [
    "detector.add(Dense(units = 1, kernel_initializer = \"random_uniform\", activation = \"sigmoid\"))"
   ]
  },
  {
   "cell_type": "markdown",
   "metadata": {},
   "source": [
    "# 9. MODEL TRAINING"
   ]
  },
  {
   "cell_type": "code",
   "execution_count": 12,
   "metadata": {},
   "outputs": [],
   "source": [
    "detector.compile(optimizer = \"adam\", loss = \"binary_crossentropy\", metrics = [\"accuracy\"])  "
   ]
  },
  {
   "cell_type": "code",
   "execution_count": 13,
   "metadata": {
    "scrolled": false
   },
   "outputs": [
    {
     "name": "stdout",
     "output_type": "stream",
     "text": [
      "Epoch 1/10\n",
      "3199/3199 [==============================] - 2426s 758ms/step - loss: 0.4927 - accuracy: 0.7766 - val_loss: 0.4982 - val_accuracy: 0.7649\n",
      "Epoch 2/10\n",
      "3199/3199 [==============================] - 291s 91ms/step - loss: 0.4156 - accuracy: 0.8187 - val_loss: 0.4397 - val_accuracy: 0.8155\n",
      "Epoch 3/10\n",
      "3199/3199 [==============================] - 292s 91ms/step - loss: 0.3933 - accuracy: 0.8295 - val_loss: 0.4018 - val_accuracy: 0.8236\n",
      "Epoch 4/10\n",
      "3199/3199 [==============================] - 297s 93ms/step - loss: 0.3823 - accuracy: 0.8360 - val_loss: 0.3949 - val_accuracy: 0.8235\n",
      "Epoch 5/10\n",
      "3199/3199 [==============================] - 264s 83ms/step - loss: 0.3746 - accuracy: 0.8394 - val_loss: 0.3887 - val_accuracy: 0.8348\n",
      "Epoch 6/10\n",
      "3199/3199 [==============================] - 254s 79ms/step - loss: 0.3655 - accuracy: 0.8426 - val_loss: 0.4426 - val_accuracy: 0.8162\n",
      "Epoch 7/10\n",
      "3199/3199 [==============================] - 252s 79ms/step - loss: 0.3633 - accuracy: 0.8461 - val_loss: 0.3934 - val_accuracy: 0.8331\n",
      "Epoch 8/10\n",
      "3199/3199 [==============================] - 254s 79ms/step - loss: 0.3596 - accuracy: 0.8466 - val_loss: 0.4352 - val_accuracy: 0.8170\n",
      "Epoch 9/10\n",
      "3199/3199 [==============================] - 265s 83ms/step - loss: 0.3564 - accuracy: 0.8489 - val_loss: 0.4093 - val_accuracy: 0.8279\n",
      "Epoch 10/10\n",
      "3199/3199 [==============================] - 265s 83ms/step - loss: 0.3517 - accuracy: 0.8506 - val_loss: 0.4245 - val_accuracy: 0.8207\n"
     ]
    }
   ],
   "source": [
    "history=detector.fit(x_train, steps_per_epoch = 102394//32, epochs = 10, validation_data = x_test, validation_steps = 44087//32)"
   ]
  },
  {
   "cell_type": "markdown",
   "metadata": {},
   "source": [
    "# 10. SAVING THE MODEL"
   ]
  },
  {
   "cell_type": "code",
   "execution_count": 14,
   "metadata": {},
   "outputs": [],
   "source": [
    "detector.save(\"breast_cancer_classifier.h5\")"
   ]
  }
 ],
 "metadata": {
  "kernelspec": {
   "display_name": "Python 3",
   "language": "python",
   "name": "python3"
  },
  "language_info": {
   "codemirror_mode": {
    "name": "ipython",
    "version": 3
   },
   "file_extension": ".py",
   "mimetype": "text/x-python",
   "name": "python",
   "nbconvert_exporter": "python",
   "pygments_lexer": "ipython3",
   "version": "3.8.3"
  }
 },
 "nbformat": 4,
 "nbformat_minor": 4
}
